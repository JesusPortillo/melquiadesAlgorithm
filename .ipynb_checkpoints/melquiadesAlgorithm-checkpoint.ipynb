{
 "cells": [
  {
   "cell_type": "markdown",
   "id": "1c7a2c97",
   "metadata": {},
   "source": [
    "## Diplomado Python\n",
    "- Nombre: Jesus David Portillo Villa\n",
    "- ID: 324718\n",
    "- Email: jesus.portillo@upb.edu.co"
   ]
  },
  {
   "cell_type": "code",
   "execution_count": 1,
   "id": "5b097501",
   "metadata": {},
   "outputs": [
    {
     "name": "stdout",
     "output_type": "stream",
     "text": [
      "Ingrese el nombre del artista: Paulo\n",
      "Princess yo vengo a ligal lento hasta el amanecel feis to feis producido pol Paulo \n"
     ]
    }
   ],
   "source": [
    "import random\n",
    "artist = input(\"Ingrese el nombre del artista: \")\n",
    "part1 = [\"Mami\", \"Bebé\", \"Princess\", \"Mami\"]\n",
    "part2 = [\"yo quiero\", \"yo puedo\", \"yo vengo a\", \"voy a\"]\n",
    "part3 = [\"encendelte\", \"amalte\", \"ligal\", \"jugal\"]\n",
    "part4 = [\"suave\", \"lento\", \"rápido\", \"fuelte\"]\n",
    "part5 = [\"hasta que salga el sol\", \"toa la noche\", \"hasta el amanecel\", \"too el día\"]\n",
    "part6 = [\"sin anestesia\", \"sin complomiso\", \"feis to feis\", \"sin miedo\"]\n",
    "part7 = [\"te lo dice\", \"producido pol\", \"con la melodia de\", \"escrito pol\"]\n",
    "\n",
    "song = [part1[random.randint(0,3)], part2[random.randint(0,3)], part3[random.randint(0,3)], part4[random.randint(0,3)], \n",
    "        part5[random.randint(0,3)],part6[random.randint(0,3)], part7[random.randint(0,3)], artist]\n",
    "phrase = \"\"\n",
    "for word in song:\n",
    "    phrase += word + \" \"\n",
    "print(phrase)"
   ]
  },
  {
   "cell_type": "markdown",
   "id": "378365f9",
   "metadata": {},
   "source": [
    "Lo primero que se hace es pedir el nombre del artista al usuario, luego se crea arrays para cada parte de la oración, luego se crea otro array a partir de escoger aleatoriamente la pocisión del elemento del array de cada parte, para al final luego concatenar todos los elementos con un bucle for convirtiendolo un string."
   ]
  }
 ],
 "metadata": {
  "kernelspec": {
   "display_name": "Python 3 (ipykernel)",
   "language": "python",
   "name": "python3"
  },
  "language_info": {
   "codemirror_mode": {
    "name": "ipython",
    "version": 3
   },
   "file_extension": ".py",
   "mimetype": "text/x-python",
   "name": "python",
   "nbconvert_exporter": "python",
   "pygments_lexer": "ipython3",
   "version": "3.9.12"
  }
 },
 "nbformat": 4,
 "nbformat_minor": 5
}
